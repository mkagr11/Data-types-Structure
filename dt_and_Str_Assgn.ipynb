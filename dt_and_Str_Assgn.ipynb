{
  "nbformat": 4,
  "nbformat_minor": 0,
  "metadata": {
    "colab": {
      "provenance": []
    },
    "kernelspec": {
      "name": "python3",
      "display_name": "Python 3"
    },
    "language_info": {
      "name": "python"
    }
  },
  "cells": [
    {
      "cell_type": "markdown",
      "source": [
        "1 - What are data structures, and why are they important ?\n",
        "  Ans - Data structure is the way of organise the data to access and to manipulate for use. Its important as its easy to access and to manupulate.\n",
        "\n",
        "2 - Explain the difference between mutable and immutable data types with examples ?\n",
        "  Ans - Mutable data type can be changes while immutable data type can not be changed, Mutable data type example is List while tupple is immutable.\n",
        "\n",
        "3 - What are the main differences between lists and tuples in Python ?\n",
        "  Ans - Lists are mutable and tuples are unmutable\n",
        "        List can represent as [] while tupple represent as ()\n",
        "\n",
        "4 - Describe how dictionaries store data ?\n",
        "  Ans - dctonaries sotre data in the form of key value pair.\n",
        "\n",
        "5 - Why might you use a set instead of a list in Python ?\n",
        "  Ans - sets store unique data in a order and avoid duplicate , so it is efficient to use and highly optmise in various use cases over Lists.\n",
        "\n",
        "6 - What is a string in Python, and how is it different from a list?\n",
        "  Ans - A string is  alphanumeric character inside a single or double quote while a list can containt different type of data, strings are immutable while list are mutable.\n",
        "\n",
        "7 - How do tuples ensure data integrity in Python ?\n",
        "  Ans - tuples are immutable, so you can not edit the data,so its a effective way for store the data for data integrity.\n",
        "\n",
        "8 - What is a hash table, and how does it relate to dictionaries in Python ?\n",
        "  Ans - Hash table store key value pair and dictionaries are build using hash tables.\n",
        "\n",
        "9 -  Can lists contain different data types in Python ?\n",
        "  Ans - Yes.\n",
        "\n",
        "10 - Explain why strings are immutable in Python ?\n",
        "  Ans - It was created so that it can not be edited for data integrity and One big reason is performance - strings are used very often, so Python is able to do many optimizatioms that won't be possible if strings were mutable\n",
        "\n",
        "11 - What advantages do dictionaries offer over lists for certain tasks ?\n",
        "  Ans - The serach function works faster in dictonaries while comparae to list as it stores data in pair form with key value.\n",
        "\n",
        "12 - Describe a scenario where using a tuple would be preferable over a list ?\n",
        "  Ans - Tupple is prefferd in scenario where we expect the data will not suppose change ( e.g date of birth/PAN no/Aadhar no etc)\n",
        "\n",
        "13 - How do sets handle duplicate values in Python ?\n",
        "  Ans - sets wont allow duplicate value as it contanins unique value.\n",
        "\n",
        "14 - How does the “in” keyword work differently for lists and dictionaries ?\n",
        "  Ans - the \"in\" operator check the value equals in List while \"in\" operator checks the key value in dictonary\n",
        "\n",
        "15 - Can you modify the elements of a tuple? Explain why or why not ?\n",
        "  Ans - You can not modify the elemensts of tupples immutable and created to not make any changes.\n",
        "\n",
        "16 - What is a nested dictionary, and give an example of its use case ?\n",
        "  Ans - A  dictonary inside a dictonary is nested dictonary, the use cases could be Employee records: Organize employees by department, with each employee's details in a nested dictionary.\n",
        "\n",
        "17 - Describe the time complexity of accessing elements in a dictionary ?\n",
        "  Ans -The time complexity of accessing a value in a dictionary is usually O(1), which means that it takes a constant amount of time to search for a value in a dictionary, regardless of the size of the dictionary.\n",
        "\n",
        "18 - in what situations are lists preferred over dictionaries?\n",
        "  Ans - if the requirement is to get the data in order manner with a sequence, list is preferred over dictionaries.\n",
        "\n",
        "19 - Why are dictionaries considered unordered, and how does that affect data retrieval?\n",
        "  Ans - dictionaries considered unordered as it do not maintain any inherent order of the items based on when they were added and its affect the data retrieval as It takes a constant amount of time hash table implementation used in Python dictionaries.\n",
        "\n",
        "20 -  Explain the difference between a list and a dictionary in terms of data retrieval ?\n",
        "\n",
        "Ans - data from the list can be retrieve using the index, while the data of the dictionary can be retrieve using keys."
      ],
      "metadata": {
        "id": "7933oQ3-FjW4"
      }
    },
    {
      "cell_type": "code",
      "source": [
        "##  1-Write a code to create a string with your name and print it\n",
        "\n",
        "my_name = 'Mukesh'\n",
        "print(my_name)\n",
        "\n"
      ],
      "metadata": {
        "id": "YwTaK96Ht_ug",
        "colab": {
          "base_uri": "https://localhost:8080/"
        },
        "outputId": "3c5338ef-873d-412c-e88e-f87cb3a12759"
      },
      "execution_count": null,
      "outputs": [
        {
          "output_type": "stream",
          "name": "stdout",
          "text": [
            "Mukesh\n"
          ]
        }
      ]
    },
    {
      "cell_type": "code",
      "source": [
        " ## 2 - Write a code to find the length of the string \"Hello World\" ?\n",
        "\n",
        " len(\"Hello World\")"
      ],
      "metadata": {
        "colab": {
          "base_uri": "https://localhost:8080/"
        },
        "id": "_-MIww3EWyMg",
        "outputId": "4ed61b7d-d870-4a37-e8e1-c121af3bc8e1"
      },
      "execution_count": null,
      "outputs": [
        {
          "output_type": "execute_result",
          "data": {
            "text/plain": [
              "11"
            ]
          },
          "metadata": {},
          "execution_count": 6
        }
      ]
    },
    {
      "cell_type": "code",
      "source": [
        " ## 3 - Write a code to slice the first 3 characters from the string \"Python Programming\" ?\n",
        "\n",
        " ptn = \"Python Programming\"\n",
        " ptn[0:3]"
      ],
      "metadata": {
        "colab": {
          "base_uri": "https://localhost:8080/",
          "height": 36
        },
        "id": "DYF3jxOmYDh9",
        "outputId": "3486df39-99f9-40b5-8f46-2b7792b782b0"
      },
      "execution_count": null,
      "outputs": [
        {
          "output_type": "execute_result",
          "data": {
            "text/plain": [
              "'Pyt'"
            ],
            "application/vnd.google.colaboratory.intrinsic+json": {
              "type": "string"
            }
          },
          "metadata": {},
          "execution_count": 9
        }
      ]
    },
    {
      "cell_type": "code",
      "source": [
        "## 4 - Write a code to convert the string \"hello\" to uppercase ?\n",
        "\n",
        "U = \"hello\"\n",
        "U.upper()"
      ],
      "metadata": {
        "colab": {
          "base_uri": "https://localhost:8080/",
          "height": 36
        },
        "id": "z8sBwc6PZBAg",
        "outputId": "047459cd-015a-4589-a0d3-c3515a51c4a2"
      },
      "execution_count": null,
      "outputs": [
        {
          "output_type": "execute_result",
          "data": {
            "text/plain": [
              "'HELLO'"
            ],
            "application/vnd.google.colaboratory.intrinsic+json": {
              "type": "string"
            }
          },
          "metadata": {},
          "execution_count": 12
        }
      ]
    },
    {
      "cell_type": "code",
      "source": [
        "## 5 -  Write a code to replace the word \"apple\" with \"orange\" in the string \"I like apple\" ?\n",
        "\n",
        "x = \"I like apple\"\n",
        "m = x.replace(\"apple\", \"orange\")\n",
        "print(m)"
      ],
      "metadata": {
        "colab": {
          "base_uri": "https://localhost:8080/"
        },
        "id": "qGXp2jULcZ5W",
        "outputId": "c224aecf-2ab6-4805-ff0c-6d13fd117050"
      },
      "execution_count": 3,
      "outputs": [
        {
          "output_type": "stream",
          "name": "stdout",
          "text": [
            "I like orange\n"
          ]
        }
      ]
    },
    {
      "cell_type": "code",
      "source": [
        "## 6 - Write a code to create a list with numbers 1 to 5 and print it ?\n",
        "\n",
        "List_A = [1,2,3,4,5]\n",
        "print(List_A)"
      ],
      "metadata": {
        "colab": {
          "base_uri": "https://localhost:8080/"
        },
        "id": "kDECWk73_TkS",
        "outputId": "133c3562-4681-48c3-b3aa-3f8813d3206b"
      },
      "execution_count": 5,
      "outputs": [
        {
          "output_type": "stream",
          "name": "stdout",
          "text": [
            "[1, 2, 3, 4, 5]\n"
          ]
        }
      ]
    },
    {
      "cell_type": "code",
      "source": [
        "## 7 - Write a code to append the number 10 to the list [1, 2, 3, 4] ?\n",
        "\n",
        "List_B = [1,2,3,4]\n",
        "List_B.append(10)\n",
        "print(List_B)"
      ],
      "metadata": {
        "colab": {
          "base_uri": "https://localhost:8080/"
        },
        "id": "AiM27wPdFtto",
        "outputId": "72cf5cd2-35ba-40de-9caf-b0891b48e900"
      },
      "execution_count": 9,
      "outputs": [
        {
          "output_type": "stream",
          "name": "stdout",
          "text": [
            "[1, 2, 3, 4, 10]\n"
          ]
        }
      ]
    },
    {
      "cell_type": "code",
      "source": [
        "## 8 - Write a code to remove the number 3 from the list [1, 2, 3, 4, 5] ?\n",
        "\n",
        "List_C = [1,2,3,4,5]\n",
        "List_C.pop(2)\n",
        "print(List_C)\n"
      ],
      "metadata": {
        "colab": {
          "base_uri": "https://localhost:8080/"
        },
        "id": "Q--uAMZSHUQE",
        "outputId": "e8c1e4f3-00a2-4e08-cbf8-343cb6293967"
      },
      "execution_count": 10,
      "outputs": [
        {
          "output_type": "stream",
          "name": "stdout",
          "text": [
            "[1, 2, 4, 5]\n"
          ]
        }
      ]
    },
    {
      "cell_type": "code",
      "source": [
        "## 9 -  Write a code to access the second element in the list ['a', 'b', 'c', 'd'] ?\n",
        "\n",
        "List_D = ['a', 'b', 'c', 'd']\n",
        "List_D[1]"
      ],
      "metadata": {
        "colab": {
          "base_uri": "https://localhost:8080/",
          "height": 36
        },
        "id": "8Hk_A8QSH9Cv",
        "outputId": "0b7cb38e-d8ea-4784-e8b7-ec5ba5f4211e"
      },
      "execution_count": 12,
      "outputs": [
        {
          "output_type": "execute_result",
          "data": {
            "text/plain": [
              "'b'"
            ],
            "application/vnd.google.colaboratory.intrinsic+json": {
              "type": "string"
            }
          },
          "metadata": {},
          "execution_count": 12
        }
      ]
    },
    {
      "cell_type": "code",
      "source": [
        "## 10 -  Write a code to reverse the list [10, 20, 30, 40, 50] ?\n",
        "\n",
        "List_E = [10, 20, 30, 40, 50]\n",
        "List_E.reverse()\n",
        "print(List_E)\n"
      ],
      "metadata": {
        "colab": {
          "base_uri": "https://localhost:8080/"
        },
        "id": "RxhuXA9_Ig2g",
        "outputId": "81944daa-5eb1-4fca-8b0e-81dc6b09c26a"
      },
      "execution_count": 33,
      "outputs": [
        {
          "output_type": "stream",
          "name": "stdout",
          "text": [
            "[50, 40, 30, 20, 10]\n"
          ]
        }
      ]
    },
    {
      "cell_type": "code",
      "source": [
        "## 11- Write a code to create a tuple with the elements 10, 20, 30 and print it ?\n",
        "\n",
        "b = (10, 20, 30)\n",
        "print(b)"
      ],
      "metadata": {
        "colab": {
          "base_uri": "https://localhost:8080/"
        },
        "id": "9hDsJPWKSeWx",
        "outputId": "8e23dc90-3383-448a-ee47-19ba8cc4bb6b"
      },
      "execution_count": 39,
      "outputs": [
        {
          "output_type": "stream",
          "name": "stdout",
          "text": [
            "(10, 20, 30)\n"
          ]
        }
      ]
    },
    {
      "cell_type": "code",
      "source": [
        "## 12 - Write a code to access the first element of the tuple ('apple', 'banana', 'cherry') ?\n",
        "\n",
        "c = ('apple', 'banana', 'cherry')\n",
        "c[0]"
      ],
      "metadata": {
        "colab": {
          "base_uri": "https://localhost:8080/",
          "height": 36
        },
        "id": "IZeG3Ei4TFGe",
        "outputId": "ca0f6a93-0272-43b7-e8f4-4d0ba4dd69bb"
      },
      "execution_count": 52,
      "outputs": [
        {
          "output_type": "execute_result",
          "data": {
            "text/plain": [
              "'apple'"
            ],
            "application/vnd.google.colaboratory.intrinsic+json": {
              "type": "string"
            }
          },
          "metadata": {},
          "execution_count": 52
        }
      ]
    },
    {
      "cell_type": "code",
      "source": [
        "## 13 - Write a code to count how many times the number 2 appears in the tuple (1, 2, 3, 2, 4, 2) ?\n",
        "\n",
        "d = (1, 2, 3, 2, 4, 2)\n",
        "d.count(2)"
      ],
      "metadata": {
        "colab": {
          "base_uri": "https://localhost:8080/"
        },
        "id": "AC8Wbf3TTsRm",
        "outputId": "e7921e6f-2a63-4f50-e3de-0b61415529a8"
      },
      "execution_count": 50,
      "outputs": [
        {
          "output_type": "execute_result",
          "data": {
            "text/plain": [
              "3"
            ]
          },
          "metadata": {},
          "execution_count": 50
        }
      ]
    },
    {
      "cell_type": "code",
      "source": [
        "## 14 - Write a code to find the index of the element \"cat\" in the tuple ('dog', 'cat', 'rabbit').\n",
        "e = ('dog', 'cat', 'rabbit')\n",
        "e.index('cat')"
      ],
      "metadata": {
        "colab": {
          "base_uri": "https://localhost:8080/"
        },
        "id": "9mL2nmJtUOus",
        "outputId": "bb8e46b7-b648-4a22-85f8-935a80efb570"
      },
      "execution_count": 64,
      "outputs": [
        {
          "output_type": "execute_result",
          "data": {
            "text/plain": [
              "1"
            ]
          },
          "metadata": {},
          "execution_count": 64
        }
      ]
    },
    {
      "cell_type": "code",
      "source": [
        "## 15 - Write a code to check if the element \"banana\" is in the tuple ('apple', 'orange', 'banana') ?\n",
        "\n",
        "f = ('apple', 'orange', 'banana')\n",
        "if \"banana\" in f:\n",
        "  print(\"present\")\n",
        "else:\n",
        "  print(\"not preset\")"
      ],
      "metadata": {
        "colab": {
          "base_uri": "https://localhost:8080/"
        },
        "id": "48TSmy4NXDlE",
        "outputId": "8d044b2d-a35a-4690-c96f-4e1401daa6a5"
      },
      "execution_count": 67,
      "outputs": [
        {
          "output_type": "stream",
          "name": "stdout",
          "text": [
            "present\n"
          ]
        }
      ]
    },
    {
      "cell_type": "code",
      "source": [
        "## 16 - Write a code to create a set with the elements 1, 2, 3, 4, 5 and print it ?\n",
        "\n",
        "set_1 = {1, 2, 3, 4, 5}\n",
        "print(set_1)"
      ],
      "metadata": {
        "colab": {
          "base_uri": "https://localhost:8080/"
        },
        "id": "UdJoKzH7X9BS",
        "outputId": "55a7d2ce-3395-414d-bc03-47ef3e5b7b70"
      },
      "execution_count": 71,
      "outputs": [
        {
          "output_type": "stream",
          "name": "stdout",
          "text": [
            "{1, 2, 3, 4, 5}\n"
          ]
        }
      ]
    },
    {
      "cell_type": "code",
      "source": [
        "## 17 - Write a code to add the element 6 to the set {1, 2, 3, 4} ?\n",
        "\n",
        "set_2 = {1, 2, 3, 4}\n",
        "set_2.add(6)\n",
        "print(set_2)"
      ],
      "metadata": {
        "colab": {
          "base_uri": "https://localhost:8080/"
        },
        "id": "TNYf5y8eYUs2",
        "outputId": "5ba3bd20-e6ad-4444-d962-2047ecff2fcc"
      },
      "execution_count": 73,
      "outputs": [
        {
          "output_type": "stream",
          "name": "stdout",
          "text": [
            "{1, 2, 3, 4, 6}\n"
          ]
        }
      ]
    },
    {
      "cell_type": "code",
      "source": [
        "## 18 - Write a code to create a tuple with the elements 10, 20, 30 and print it ?\n",
        "\n",
        "tpl = (10, 20, 20)\n",
        "print(tpl)"
      ],
      "metadata": {
        "colab": {
          "base_uri": "https://localhost:8080/"
        },
        "id": "wB3aGgUsYoie",
        "outputId": "bb33d36e-612c-4998-9221-dd2ed0eb0305"
      },
      "execution_count": 75,
      "outputs": [
        {
          "output_type": "stream",
          "name": "stdout",
          "text": [
            "(10, 20, 20)\n"
          ]
        }
      ]
    },
    {
      "cell_type": "code",
      "source": [
        "## 19 -  Write a code to access the first element of the tuple ('apple', 'banana', 'cherry') ?\n",
        "\n",
        "tpl1 = ('apple', 'banana', 'cherry')\n",
        "tpl1[0]"
      ],
      "metadata": {
        "colab": {
          "base_uri": "https://localhost:8080/",
          "height": 36
        },
        "id": "Y-irb454ZHG_",
        "outputId": "882ddb8f-6167-4302-cc29-d1ebfc235625"
      },
      "execution_count": 76,
      "outputs": [
        {
          "output_type": "execute_result",
          "data": {
            "text/plain": [
              "'apple'"
            ],
            "application/vnd.google.colaboratory.intrinsic+json": {
              "type": "string"
            }
          },
          "metadata": {},
          "execution_count": 76
        }
      ]
    },
    {
      "cell_type": "code",
      "source": [
        "## 20 -  Write a code to count how many times the number 2 appears in the tuple (1, 2, 3, 2, 4, 2) ?\n",
        "\n",
        "g = (1, 2, 3, 2, 4, 2)\n",
        "g.count(2)\n",
        "\n"
      ],
      "metadata": {
        "colab": {
          "base_uri": "https://localhost:8080/"
        },
        "id": "q91SNvi5ZhMY",
        "outputId": "8af41897-9c3d-49ab-899c-1ea5ce9b2c3f"
      },
      "execution_count": 77,
      "outputs": [
        {
          "output_type": "execute_result",
          "data": {
            "text/plain": [
              "3"
            ]
          },
          "metadata": {},
          "execution_count": 77
        }
      ]
    },
    {
      "cell_type": "code",
      "source": [
        "## 21 - Write a code to find the index of the element \"cat\" in the tuple ('dog', 'cat', 'rabbit') ?\n",
        "\n",
        "h = ('dog', 'cat', 'rabbit')\n",
        "h.index('cat')\n",
        "\n"
      ],
      "metadata": {
        "colab": {
          "base_uri": "https://localhost:8080/"
        },
        "id": "uwEuEzy8cI4-",
        "outputId": "efde1859-6fd1-453b-cc79-a4e5e139a5e4"
      },
      "execution_count": 78,
      "outputs": [
        {
          "output_type": "execute_result",
          "data": {
            "text/plain": [
              "1"
            ]
          },
          "metadata": {},
          "execution_count": 78
        }
      ]
    },
    {
      "cell_type": "code",
      "source": [
        "## 22 - Write a code to check if the element \"banana\" is in the tuple ('apple', 'orange', 'banana')?\n",
        "\n",
        "i = ('apple', 'orange', 'banana')\n",
        "if \"banana\" in i:\n",
        "  print(\"present\")\n",
        "else:\n",
        "  print(\"not preset\")"
      ],
      "metadata": {
        "colab": {
          "base_uri": "https://localhost:8080/"
        },
        "id": "_1c-rDnacJaK",
        "outputId": "e440d53e-e9a9-4b31-f95b-a97a5c2a5ca8"
      },
      "execution_count": 79,
      "outputs": [
        {
          "output_type": "stream",
          "name": "stdout",
          "text": [
            "present\n"
          ]
        }
      ]
    },
    {
      "cell_type": "code",
      "source": [
        "## 23 - . Write a code to create a set with the elements 1, 2, 3, 4, 5 and print it ?\n",
        "\n",
        "j = {1, 2, 3, 4, 5}\n",
        "print(j)"
      ],
      "metadata": {
        "colab": {
          "base_uri": "https://localhost:8080/"
        },
        "id": "HuyDkAeHcJlw",
        "outputId": "9d25efaa-7452-47f1-cfcf-7c6241d3e9f9"
      },
      "execution_count": 80,
      "outputs": [
        {
          "output_type": "stream",
          "name": "stdout",
          "text": [
            "{1, 2, 3, 4, 5}\n"
          ]
        }
      ]
    },
    {
      "cell_type": "code",
      "source": [
        "## 24 - Write a code to add the element 6 to the set {1, 2, 3, 4}\n",
        "\n",
        "k = {1, 2, 3, 4}\n",
        "k.add(6)\n",
        "print(k)\n",
        "\n"
      ],
      "metadata": {
        "colab": {
          "base_uri": "https://localhost:8080/"
        },
        "id": "RboCPz0acJv2",
        "outputId": "4725ea39-03b2-4969-a554-d48cd2796c1a"
      },
      "execution_count": 81,
      "outputs": [
        {
          "output_type": "stream",
          "name": "stdout",
          "text": [
            "{1, 2, 3, 4, 6}\n"
          ]
        }
      ]
    }
  ]
}